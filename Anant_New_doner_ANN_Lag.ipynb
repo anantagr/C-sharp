{
  "nbformat": 4,
  "nbformat_minor": 0,
  "metadata": {
    "colab": {
      "name": "Anant_New_doner_ANN_Lag.ipynb",
      "provenance": [],
      "collapsed_sections": [],
      "include_colab_link": true
    },
    "kernelspec": {
      "name": "python3",
      "display_name": "Python 3"
    },
    "accelerator": "GPU"
  },
  "cells": [
    {
      "cell_type": "markdown",
      "metadata": {
        "id": "view-in-github",
        "colab_type": "text"
      },
      "source": [
        "<a href=\"https://colab.research.google.com/github/anantagr/C-sharp/blob/master/Anant_New_doner_ANN_Lag.ipynb\" target=\"_parent\"><img src=\"https://colab.research.google.com/assets/colab-badge.svg\" alt=\"Open In Colab\"/></a>"
      ]
    },
    {
      "cell_type": "code",
      "metadata": {
        "id": "j4CtwezjV7LU",
        "colab_type": "code",
        "colab": {
          "base_uri": "https://localhost:8080/",
          "height": 122
        },
        "outputId": "aba2a41f-bb94-4beb-9daa-a2e68e0b0b6c"
      },
      "source": [
        "from google.colab import drive\n",
        "drive.mount('/content/drive')"
      ],
      "execution_count": 1,
      "outputs": [
        {
          "output_type": "stream",
          "text": [
            "Go to this URL in a browser: https://accounts.google.com/o/oauth2/auth?client_id=947318989803-6bn6qk8qdgf4n4g3pfee6491hc0brc4i.apps.googleusercontent.com&redirect_uri=urn%3aietf%3awg%3aoauth%3a2.0%3aoob&response_type=code&scope=email%20https%3a%2f%2fwww.googleapis.com%2fauth%2fdocs.test%20https%3a%2f%2fwww.googleapis.com%2fauth%2fdrive%20https%3a%2f%2fwww.googleapis.com%2fauth%2fdrive.photos.readonly%20https%3a%2f%2fwww.googleapis.com%2fauth%2fpeopleapi.readonly\n",
            "\n",
            "Enter your authorization code:\n",
            "··········\n",
            "Mounted at /content/drive\n"
          ],
          "name": "stdout"
        }
      ]
    },
    {
      "cell_type": "markdown",
      "metadata": {
        "id": "wNyLgdIUWRkw",
        "colab_type": "text"
      },
      "source": [
        "### Importing required libraries"
      ]
    },
    {
      "cell_type": "code",
      "metadata": {
        "id": "6FaTwECSWArb",
        "colab_type": "code",
        "colab": {}
      },
      "source": [
        "import numpy as np\n",
        "import matplotlib.pyplot as plt\n",
        "import pandas as pd\n",
        "from geopy.geocoders import Nominatim\n",
        "from geopy.extra.rate_limiter import RateLimiter\n",
        "import pickle\n",
        "\n"
      ],
      "execution_count": 86,
      "outputs": []
    },
    {
      "cell_type": "markdown",
      "metadata": {
        "id": "QtceZ5v1WVZ3",
        "colab_type": "text"
      },
      "source": [
        "### Loading the data"
      ]
    },
    {
      "cell_type": "code",
      "metadata": {
        "id": "0a2xaFZjWOAn",
        "colab_type": "code",
        "colab": {}
      },
      "source": [
        "emails_data = pd.read_csv('/content/drive/Shared drives/RA2 TechCareers Model Data/emails.csv', error_bad_lines=False, header = 0)\n",
        "interactions_data = pd.read_csv('/content/drive/Shared drives/RA2 TechCareers Model Data/interactions.csv', error_bad_lines=False, header = 0)\n",
        "persons_data = pd.read_csv('/content/drive/Shared drives/RA2 TechCareers Model Data/persons.csv', error_bad_lines=False, header = 0)\n",
        "\n"
      ],
      "execution_count": 87,
      "outputs": []
    },
    {
      "cell_type": "markdown",
      "metadata": {
        "id": "6lLD8PmqWgdf",
        "colab_type": "text"
      },
      "source": [
        "From the above data, we draw a list of dependent and independent features.\n",
        "List of Dependent features: \n",
        "1. Customer will open the email (1 or 0)\n",
        "\n"
      ]
    },
    {
      "cell_type": "markdown",
      "metadata": {
        "id": "NF1y8mtYXXBx",
        "colab_type": "text"
      },
      "source": [
        "### Reading the data"
      ]
    },
    {
      "cell_type": "code",
      "metadata": {
        "id": "Aap-rKSPWbrf",
        "colab_type": "code",
        "colab": {
          "base_uri": "https://localhost:8080/",
          "height": 68
        },
        "outputId": "813824db-ce04-428d-81da-82796834f2f2"
      },
      "source": [
        "df_emails = pd.DataFrame(emails_data)\n",
        "df_interactions = pd.DataFrame(interactions_data)\n",
        "df_persons = pd.DataFrame(persons_data)\n",
        "\n",
        "print(df_emails.shape)\n",
        "print(df_interactions.shape)\n",
        "print(df_persons.shape)\n"
      ],
      "execution_count": 88,
      "outputs": [
        {
          "output_type": "stream",
          "text": [
            "(609, 11)\n",
            "(1044769, 8)\n",
            "(21066, 14)\n"
          ],
          "name": "stdout"
        }
      ]
    },
    {
      "cell_type": "markdown",
      "metadata": {
        "id": "Qjpfw9__XuIg",
        "colab_type": "text"
      },
      "source": [
        "# **Part 1 - Preprocessing the data**\n"
      ]
    },
    {
      "cell_type": "markdown",
      "metadata": {
        "id": "8gHXzX-Akcea",
        "colab_type": "text"
      },
      "source": [
        "### Email.csv"
      ]
    },
    {
      "cell_type": "code",
      "metadata": {
        "id": "GUM0Mif1XfYh",
        "colab_type": "code",
        "colab": {
          "base_uri": "https://localhost:8080/",
          "height": 221
        },
        "outputId": "3283376a-3736-4138-e90f-471156993b9f"
      },
      "source": [
        "# Filtering out emails sent to less than 500 recipients \n",
        "df_emails = df_emails[df_emails['recipients'] > 500].reset_index(drop=True)\n",
        "\n",
        "# Dropping unused columns\n",
        "df_emails = df_emails.drop(['broadcaster_id', 'recipients', 'subject_line','content', 'opened', 'clicked', 'bad', 'bounced', 'spam', 'sent_time'], 1)\n",
        "\n",
        "print(df_emails.shape)\n",
        "df_emails.head()"
      ],
      "execution_count": 89,
      "outputs": [
        {
          "output_type": "stream",
          "text": [
            "(207, 1)\n"
          ],
          "name": "stdout"
        },
        {
          "output_type": "execute_result",
          "data": {
            "text/html": [
              "<div>\n",
              "<style scoped>\n",
              "    .dataframe tbody tr th:only-of-type {\n",
              "        vertical-align: middle;\n",
              "    }\n",
              "\n",
              "    .dataframe tbody tr th {\n",
              "        vertical-align: top;\n",
              "    }\n",
              "\n",
              "    .dataframe thead th {\n",
              "        text-align: right;\n",
              "    }\n",
              "</style>\n",
              "<table border=\"1\" class=\"dataframe\">\n",
              "  <thead>\n",
              "    <tr style=\"text-align: right;\">\n",
              "      <th></th>\n",
              "      <th>email_id</th>\n",
              "    </tr>\n",
              "  </thead>\n",
              "  <tbody>\n",
              "    <tr>\n",
              "      <th>0</th>\n",
              "      <td>100</td>\n",
              "    </tr>\n",
              "    <tr>\n",
              "      <th>1</th>\n",
              "      <td>104</td>\n",
              "    </tr>\n",
              "    <tr>\n",
              "      <th>2</th>\n",
              "      <td>105</td>\n",
              "    </tr>\n",
              "    <tr>\n",
              "      <th>3</th>\n",
              "      <td>11</td>\n",
              "    </tr>\n",
              "    <tr>\n",
              "      <th>4</th>\n",
              "      <td>117</td>\n",
              "    </tr>\n",
              "  </tbody>\n",
              "</table>\n",
              "</div>"
            ],
            "text/plain": [
              "   email_id\n",
              "0       100\n",
              "1       104\n",
              "2       105\n",
              "3        11\n",
              "4       117"
            ]
          },
          "metadata": {
            "tags": []
          },
          "execution_count": 89
        }
      ]
    },
    {
      "cell_type": "markdown",
      "metadata": {
        "id": "WmD4d20RkuWY",
        "colab_type": "text"
      },
      "source": [
        "## Interactions.csv\n",
        "\n",
        "#### Converting Opened_time data to 0s and 1s\n",
        "\n",
        "- 0 means email not opened\n",
        "- 1 means email was opened"
      ]
    },
    {
      "cell_type": "code",
      "metadata": {
        "id": "AmZYiGEKkhGl",
        "colab_type": "code",
        "colab": {
          "base_uri": "https://localhost:8080/",
          "height": 241
        },
        "outputId": "44b3522f-0d4f-448a-eb11-09a401b46188"
      },
      "source": [
        "# drop extra columns\n",
        "df_interations_filtered = df_interactions[['email_id', 'user_id', 'sent_time', 'opened_time']]\n",
        "\n",
        "# convert columns to datatimes\n",
        "df_interations_filtered['opened_time'], df_interations_filtered['sent_time'] = pd.to_datetime(df_interations_filtered['opened_time']), pd.to_datetime(df_interations_filtered['sent_time'])\n",
        "\n",
        "# check if email was opened\n",
        "df_interations_filtered['opened'] = df_interations_filtered.opened_time.notnull()\n",
        "\n",
        "# filter out emails that were not sent to user\n",
        "df_interations_filtered = df_interations_filtered[df_interations_filtered.sent_time.notnull()]\n",
        "\n",
        "\n",
        "#drop unused columns\n",
        "df_interations_filtered = df_interations_filtered.drop(['opened_time'], 1)\n",
        "\n",
        "\n",
        "# check column types\n",
        "df_interations_filtered.dtypes\n",
        "\n",
        "\n",
        "# Create lag columns\n",
        "# Order the data by user and time sent\n",
        "interaction_ordered = df_interations_filtered.sort_values(['user_id', 'sent_time'], ascending=False)\n",
        "\n",
        "\n",
        "\n",
        "# Create lagged columns by lopping through number of lag terms\n",
        "interaction_lagged = interaction_ordered\n",
        "\n",
        "lag_steps = 5 # sets the number of lags to use\n",
        "for i in range(lag_steps):\n",
        "  interaction_lagged['Open_Lag' + str(i+1)] = interaction_lagged.groupby('user_id')['opened'].shift(-1 * (i+1))\n",
        "\n",
        "\n",
        "# Filter out rows wth missing lag terms and drop extra columns\n",
        "opened_lag_data = interaction_ordered[interaction_ordered['Open_Lag'+str(lag_steps)].notnull()].drop(['sent_time'], axis = 1)\n",
        "# # open_lag_data = open_lag_data.groupby('opened').apply(lambda x: x.sample(300000))"
      ],
      "execution_count": 90,
      "outputs": [
        {
          "output_type": "stream",
          "text": [
            "/usr/local/lib/python3.6/dist-packages/ipykernel_launcher.py:5: SettingWithCopyWarning: \n",
            "A value is trying to be set on a copy of a slice from a DataFrame.\n",
            "Try using .loc[row_indexer,col_indexer] = value instead\n",
            "\n",
            "See the caveats in the documentation: https://pandas.pydata.org/pandas-docs/stable/user_guide/indexing.html#returning-a-view-versus-a-copy\n",
            "  \"\"\"\n",
            "/usr/local/lib/python3.6/dist-packages/ipykernel_launcher.py:8: SettingWithCopyWarning: \n",
            "A value is trying to be set on a copy of a slice from a DataFrame.\n",
            "Try using .loc[row_indexer,col_indexer] = value instead\n",
            "\n",
            "See the caveats in the documentation: https://pandas.pydata.org/pandas-docs/stable/user_guide/indexing.html#returning-a-view-versus-a-copy\n",
            "  \n"
          ],
          "name": "stderr"
        }
      ]
    },
    {
      "cell_type": "markdown",
      "metadata": {
        "id": "vN6FquaYlcb9",
        "colab_type": "text"
      },
      "source": [
        "## Persons.csv\n",
        "\n",
        "* Creating dummy variable (is_donor) for user_ID\n",
        "  * If user_ID donated ----------------> is_donor = 1\n",
        "  * If user_ID did not donated ----> is_donor = 0\n",
        "\n",
        "* Creating dummy variable for is_member & is_volunteer\n",
        "  * True = 1\n",
        "  * False = 0"
      ]
    },
    {
      "cell_type": "markdown",
      "metadata": {
        "id": "22p19MLriiSI",
        "colab_type": "text"
      },
      "source": [
        "### Cleaning data"
      ]
    },
    {
      "cell_type": "code",
      "metadata": {
        "id": "NvGm4Dz3ihig",
        "colab_type": "code",
        "colab": {
          "base_uri": "https://localhost:8080/",
          "height": 343
        },
        "outputId": "8b01cd20-f6fa-49d2-fc29-d1424c049184"
      },
      "source": [
        "# Gender divided in 3 categories: 1) Male (2) Female (3) Other\n",
        "for i in range(len(df_persons['gender'])):\n",
        "  if ((df_persons.at[i,'gender'] != 'MALE') and (df_persons.at[i,'gender'] != 'FEMALE')):\n",
        "    df_persons.at[i,'gender'] = 'OTHERS'\n",
        "\n",
        "# is_volumteer divided in 3 categories: 1) True (2) False (3) No Data\n",
        "for i in range(len(df_persons['is_volunteer'])):\n",
        "  if ((df_persons.at[i,'is_volunteer'] != True) and (df_persons.at[i,'is_volunteer'] != False)):\n",
        "    df_persons.at[i,'is_volunteer'] = 'No Data'\n",
        "\n",
        "# City Data cleaning\n",
        "# Dropping cities with NA vlues\n",
        "df_persons = df_persons.dropna(subset=['city'])\n",
        "\n",
        "# Cities divided in 3 categories: 1) Edmonton (2) Calgary (3) Other\n",
        "df_persons['city'] = np.where(\n",
        "   (df_persons['city'] !='EDMONTON') & (df_persons['city'] != 'CALGARY') , 'OTHER', df_persons['city']\n",
        "   )\n",
        "\n",
        "\n",
        "#Checking dataset\n",
        "print('Persons dataset: ', df_persons.shape)\n",
        "# print(df_persons.info())\n",
        "print(\"Unique genders in dataset: \", df_persons['gender'].unique())\n",
        "print(\"Unique is_volunteer in dataset: \", df_persons['is_volunteer'].unique())\n",
        "print(\"Unique Cities in dataset: \", df_persons['city'].unique())\n",
        "\n",
        "\n",
        "\n",
        "# Convert categorical features into dummy variables\n",
        "Gender = pd.get_dummies(df_persons['gender'], prefix='gender_', drop_first=True)\n",
        "df_persons = pd.concat([df_persons, Gender], axis = 1)\n",
        "\n",
        "Is_volunteer = pd.get_dummies(df_persons['is_volunteer'], prefix='is_volunteer_',  drop_first=True)\n",
        "df_persons = pd.concat([df_persons, Is_volunteer], axis = 1)\n",
        "\n",
        "City = pd.get_dummies(df_persons['city'], prefix='city_',  drop_first=True)\n",
        "df_persons = pd.concat([df_persons, City], axis = 1)\n",
        "\n",
        "# Creating column is_donor\n",
        "df_persons['is_donor'] = np.where(df_persons.amount_donated_in_cent > 0, 1, 0)\n",
        "\n",
        "# Changing true to 1 and false to 0\n",
        "df_persons[[\"is_member\", \"do_not_call\", \"do_not_contact\", \"mobile_opt_in\", \"email_opt_in\"]] *= 1\n",
        "\n",
        "print('Persons dataset after creating dummy variables: ', df_persons.shape)\n",
        "\n",
        "\n",
        "#Dropping unused columns\n",
        "df_persons = df_persons.drop(['created_at', 'amount_donated_in_cent', 'gender', 'genderscale', 'is_volunteer', 'city', 'lat', 'lng'], 1)\n",
        "\n",
        "print('Persons dataset after dropping unused columns: ', df_persons.shape)\n",
        "\n",
        "df_persons.head()\n"
      ],
      "execution_count": 91,
      "outputs": [
        {
          "output_type": "stream",
          "text": [
            "Persons dataset:  (17737, 14)\n",
            "Unique genders in dataset:  ['MALE' 'FEMALE' 'OTHERS']\n",
            "Unique is_volunteer in dataset:  [True False 'No Data']\n",
            "Unique Cities in dataset:  ['EDMONTON' 'OTHER' 'CALGARY']\n",
            "Persons dataset after creating dummy variables:  (17737, 21)\n",
            "Persons dataset after dropping unused columns:  (17737, 13)\n"
          ],
          "name": "stdout"
        },
        {
          "output_type": "execute_result",
          "data": {
            "text/html": [
              "<div>\n",
              "<style scoped>\n",
              "    .dataframe tbody tr th:only-of-type {\n",
              "        vertical-align: middle;\n",
              "    }\n",
              "\n",
              "    .dataframe tbody tr th {\n",
              "        vertical-align: top;\n",
              "    }\n",
              "\n",
              "    .dataframe thead th {\n",
              "        text-align: right;\n",
              "    }\n",
              "</style>\n",
              "<table border=\"1\" class=\"dataframe\">\n",
              "  <thead>\n",
              "    <tr style=\"text-align: right;\">\n",
              "      <th></th>\n",
              "      <th>user_id</th>\n",
              "      <th>do_not_call</th>\n",
              "      <th>do_not_contact</th>\n",
              "      <th>mobile_opt_in</th>\n",
              "      <th>email_opt_in</th>\n",
              "      <th>is_member</th>\n",
              "      <th>gender__MALE</th>\n",
              "      <th>gender__OTHERS</th>\n",
              "      <th>is_volunteer__True</th>\n",
              "      <th>is_volunteer__No Data</th>\n",
              "      <th>city__EDMONTON</th>\n",
              "      <th>city__OTHER</th>\n",
              "      <th>is_donor</th>\n",
              "    </tr>\n",
              "  </thead>\n",
              "  <tbody>\n",
              "    <tr>\n",
              "      <th>0</th>\n",
              "      <td>10</td>\n",
              "      <td>0</td>\n",
              "      <td>0</td>\n",
              "      <td>1</td>\n",
              "      <td>1</td>\n",
              "      <td>1</td>\n",
              "      <td>1</td>\n",
              "      <td>0</td>\n",
              "      <td>1</td>\n",
              "      <td>0</td>\n",
              "      <td>1</td>\n",
              "      <td>0</td>\n",
              "      <td>1</td>\n",
              "    </tr>\n",
              "    <tr>\n",
              "      <th>1</th>\n",
              "      <td>100</td>\n",
              "      <td>0</td>\n",
              "      <td>0</td>\n",
              "      <td>1</td>\n",
              "      <td>1</td>\n",
              "      <td>1</td>\n",
              "      <td>1</td>\n",
              "      <td>0</td>\n",
              "      <td>0</td>\n",
              "      <td>0</td>\n",
              "      <td>0</td>\n",
              "      <td>1</td>\n",
              "      <td>0</td>\n",
              "    </tr>\n",
              "    <tr>\n",
              "      <th>2</th>\n",
              "      <td>1000</td>\n",
              "      <td>0</td>\n",
              "      <td>0</td>\n",
              "      <td>1</td>\n",
              "      <td>0</td>\n",
              "      <td>1</td>\n",
              "      <td>1</td>\n",
              "      <td>0</td>\n",
              "      <td>0</td>\n",
              "      <td>0</td>\n",
              "      <td>0</td>\n",
              "      <td>1</td>\n",
              "      <td>0</td>\n",
              "    </tr>\n",
              "    <tr>\n",
              "      <th>3</th>\n",
              "      <td>10000</td>\n",
              "      <td>0</td>\n",
              "      <td>0</td>\n",
              "      <td>1</td>\n",
              "      <td>1</td>\n",
              "      <td>1</td>\n",
              "      <td>0</td>\n",
              "      <td>0</td>\n",
              "      <td>0</td>\n",
              "      <td>0</td>\n",
              "      <td>0</td>\n",
              "      <td>1</td>\n",
              "      <td>1</td>\n",
              "    </tr>\n",
              "    <tr>\n",
              "      <th>4</th>\n",
              "      <td>10001</td>\n",
              "      <td>0</td>\n",
              "      <td>0</td>\n",
              "      <td>1</td>\n",
              "      <td>0</td>\n",
              "      <td>1</td>\n",
              "      <td>1</td>\n",
              "      <td>0</td>\n",
              "      <td>0</td>\n",
              "      <td>0</td>\n",
              "      <td>1</td>\n",
              "      <td>0</td>\n",
              "      <td>1</td>\n",
              "    </tr>\n",
              "  </tbody>\n",
              "</table>\n",
              "</div>"
            ],
            "text/plain": [
              "   user_id  do_not_call  do_not_contact  ...  city__EDMONTON  city__OTHER  is_donor\n",
              "0       10            0               0  ...               1            0         1\n",
              "1      100            0               0  ...               0            1         0\n",
              "2     1000            0               0  ...               0            1         0\n",
              "3    10000            0               0  ...               0            1         1\n",
              "4    10001            0               0  ...               1            0         1\n",
              "\n",
              "[5 rows x 13 columns]"
            ]
          },
          "metadata": {
            "tags": []
          },
          "execution_count": 91
        }
      ]
    },
    {
      "cell_type": "markdown",
      "metadata": {
        "id": "TbXGrQsd5BLU",
        "colab_type": "text"
      },
      "source": [
        "# Combining Email, Interactions and Persons dataframes\n",
        "\n",
        "#### **Email Dataframe**\n",
        "*   Unique Email IDs ---> 207\n",
        "\n",
        "  (Removed emails sent to less than 500 recipients)\n",
        "\n",
        "\n",
        "#### **Interactions Dataframe**\n",
        "*   Unique Email IDs ---> 562\n",
        "*   Unique User IDs ---> 21066\n",
        "\n",
        "\n",
        "\n",
        "#### **Persons Dataframe**\n",
        "*   Unique User IDs ---> 17737\n",
        "\n",
        "```\n",
        "df_persons['user_id'].nunique()\n",
        "```\n",
        "\n",
        "\n",
        "\n",
        "\n"
      ]
    },
    {
      "cell_type": "markdown",
      "metadata": {
        "id": "fck7OOTr6pb0",
        "colab_type": "text"
      },
      "source": [
        "#### **Inner join** between Interaction DF and Email DF on email_id\n",
        "\n",
        "#### **Inner join** between Interaction DF and Persons DF on email_id\n",
        "\n",
        "[Info](https://https://www.diffen.com/difference/Inner_Join_vs_Outer_Join)\n",
        "\n",
        "\n",
        "\n"
      ]
    },
    {
      "cell_type": "code",
      "metadata": {
        "id": "MZ0MUph40Qz7",
        "colab_type": "code",
        "colab": {}
      },
      "source": [
        "#Inner join between Interaction DF and Email DF on email_id \n",
        "df_combined = pd.merge(opened_lag_data, df_emails, on='email_id', how='inner')\n",
        "\n",
        "#Inner join between Interaction DF and Persons DF on user_id \n",
        "df_combined2 = pd.merge(df_combined, df_persons, on='user_id', how='inner')\n",
        "\n",
        "# taking 250k opened and 250k not opened email\n",
        "df_combined_final = df_combined2.groupby('opened').apply(lambda x: x.sample(250000))\n",
        "\n",
        "# Changing true to 1 and false to 0\n",
        "df_combined_final[[\"opened\", \"Open_Lag1\", \"Open_Lag2\", \"Open_Lag3\", \"Open_Lag4\", \"Open_Lag5\"]] *= 1\n"
      ],
      "execution_count": 92,
      "outputs": []
    },
    {
      "cell_type": "markdown",
      "metadata": {
        "id": "rnKtnHw6-aLb",
        "colab_type": "text"
      },
      "source": [
        "# Final Data set\n",
        "\n",
        "* 500000 rows × 18 columns\n",
        "* Unique Emaild IDs ---> 168 nos.\n",
        "* Unique User IDs ---> 13929 nos.\n",
        "\n",
        "`df_combined_final.nunique()`"
      ]
    },
    {
      "cell_type": "code",
      "metadata": {
        "id": "2Bfg8ot3WrGM",
        "colab_type": "code",
        "colab": {
          "base_uri": "https://localhost:8080/",
          "height": 487
        },
        "outputId": "14fb4b70-2cca-480e-b78a-35fcc777b5fa"
      },
      "source": [
        "df_combined_final"
      ],
      "execution_count": 93,
      "outputs": [
        {
          "output_type": "execute_result",
          "data": {
            "text/html": [
              "<div>\n",
              "<style scoped>\n",
              "    .dataframe tbody tr th:only-of-type {\n",
              "        vertical-align: middle;\n",
              "    }\n",
              "\n",
              "    .dataframe tbody tr th {\n",
              "        vertical-align: top;\n",
              "    }\n",
              "\n",
              "    .dataframe thead th {\n",
              "        text-align: right;\n",
              "    }\n",
              "</style>\n",
              "<table border=\"1\" class=\"dataframe\">\n",
              "  <thead>\n",
              "    <tr style=\"text-align: right;\">\n",
              "      <th></th>\n",
              "      <th></th>\n",
              "      <th>email_id</th>\n",
              "      <th>user_id</th>\n",
              "      <th>opened</th>\n",
              "      <th>Open_Lag1</th>\n",
              "      <th>Open_Lag2</th>\n",
              "      <th>Open_Lag3</th>\n",
              "      <th>Open_Lag4</th>\n",
              "      <th>Open_Lag5</th>\n",
              "      <th>do_not_call</th>\n",
              "      <th>do_not_contact</th>\n",
              "      <th>mobile_opt_in</th>\n",
              "      <th>email_opt_in</th>\n",
              "      <th>is_member</th>\n",
              "      <th>gender__MALE</th>\n",
              "      <th>gender__OTHERS</th>\n",
              "      <th>is_volunteer__True</th>\n",
              "      <th>is_volunteer__No Data</th>\n",
              "      <th>city__EDMONTON</th>\n",
              "      <th>city__OTHER</th>\n",
              "      <th>is_donor</th>\n",
              "    </tr>\n",
              "    <tr>\n",
              "      <th>opened</th>\n",
              "      <th></th>\n",
              "      <th></th>\n",
              "      <th></th>\n",
              "      <th></th>\n",
              "      <th></th>\n",
              "      <th></th>\n",
              "      <th></th>\n",
              "      <th></th>\n",
              "      <th></th>\n",
              "      <th></th>\n",
              "      <th></th>\n",
              "      <th></th>\n",
              "      <th></th>\n",
              "      <th></th>\n",
              "      <th></th>\n",
              "      <th></th>\n",
              "      <th></th>\n",
              "      <th></th>\n",
              "      <th></th>\n",
              "      <th></th>\n",
              "      <th></th>\n",
              "    </tr>\n",
              "  </thead>\n",
              "  <tbody>\n",
              "    <tr>\n",
              "      <th rowspan=\"5\" valign=\"top\">False</th>\n",
              "      <th>73952</th>\n",
              "      <td>55</td>\n",
              "      <td>9954</td>\n",
              "      <td>0</td>\n",
              "      <td>0</td>\n",
              "      <td>1</td>\n",
              "      <td>0</td>\n",
              "      <td>0</td>\n",
              "      <td>0</td>\n",
              "      <td>0</td>\n",
              "      <td>0</td>\n",
              "      <td>1</td>\n",
              "      <td>1</td>\n",
              "      <td>1</td>\n",
              "      <td>0</td>\n",
              "      <td>0</td>\n",
              "      <td>0</td>\n",
              "      <td>0</td>\n",
              "      <td>0</td>\n",
              "      <td>0</td>\n",
              "      <td>1</td>\n",
              "    </tr>\n",
              "    <tr>\n",
              "      <th>578975</th>\n",
              "      <td>197</td>\n",
              "      <td>5066</td>\n",
              "      <td>0</td>\n",
              "      <td>0</td>\n",
              "      <td>0</td>\n",
              "      <td>1</td>\n",
              "      <td>1</td>\n",
              "      <td>1</td>\n",
              "      <td>0</td>\n",
              "      <td>0</td>\n",
              "      <td>1</td>\n",
              "      <td>1</td>\n",
              "      <td>0</td>\n",
              "      <td>1</td>\n",
              "      <td>0</td>\n",
              "      <td>0</td>\n",
              "      <td>0</td>\n",
              "      <td>0</td>\n",
              "      <td>0</td>\n",
              "      <td>1</td>\n",
              "    </tr>\n",
              "    <tr>\n",
              "      <th>207559</th>\n",
              "      <td>611</td>\n",
              "      <td>20377</td>\n",
              "      <td>0</td>\n",
              "      <td>0</td>\n",
              "      <td>0</td>\n",
              "      <td>0</td>\n",
              "      <td>0</td>\n",
              "      <td>0</td>\n",
              "      <td>0</td>\n",
              "      <td>0</td>\n",
              "      <td>1</td>\n",
              "      <td>1</td>\n",
              "      <td>1</td>\n",
              "      <td>1</td>\n",
              "      <td>0</td>\n",
              "      <td>0</td>\n",
              "      <td>0</td>\n",
              "      <td>0</td>\n",
              "      <td>1</td>\n",
              "      <td>1</td>\n",
              "    </tr>\n",
              "    <tr>\n",
              "      <th>54206</th>\n",
              "      <td>550</td>\n",
              "      <td>11225</td>\n",
              "      <td>0</td>\n",
              "      <td>1</td>\n",
              "      <td>1</td>\n",
              "      <td>0</td>\n",
              "      <td>0</td>\n",
              "      <td>0</td>\n",
              "      <td>0</td>\n",
              "      <td>0</td>\n",
              "      <td>1</td>\n",
              "      <td>1</td>\n",
              "      <td>1</td>\n",
              "      <td>0</td>\n",
              "      <td>0</td>\n",
              "      <td>0</td>\n",
              "      <td>0</td>\n",
              "      <td>0</td>\n",
              "      <td>1</td>\n",
              "      <td>1</td>\n",
              "    </tr>\n",
              "    <tr>\n",
              "      <th>275328</th>\n",
              "      <td>416</td>\n",
              "      <td>16608</td>\n",
              "      <td>0</td>\n",
              "      <td>0</td>\n",
              "      <td>1</td>\n",
              "      <td>0</td>\n",
              "      <td>0</td>\n",
              "      <td>0</td>\n",
              "      <td>0</td>\n",
              "      <td>0</td>\n",
              "      <td>1</td>\n",
              "      <td>1</td>\n",
              "      <td>1</td>\n",
              "      <td>1</td>\n",
              "      <td>0</td>\n",
              "      <td>0</td>\n",
              "      <td>0</td>\n",
              "      <td>0</td>\n",
              "      <td>1</td>\n",
              "      <td>1</td>\n",
              "    </tr>\n",
              "    <tr>\n",
              "      <th>...</th>\n",
              "      <th>...</th>\n",
              "      <td>...</td>\n",
              "      <td>...</td>\n",
              "      <td>...</td>\n",
              "      <td>...</td>\n",
              "      <td>...</td>\n",
              "      <td>...</td>\n",
              "      <td>...</td>\n",
              "      <td>...</td>\n",
              "      <td>...</td>\n",
              "      <td>...</td>\n",
              "      <td>...</td>\n",
              "      <td>...</td>\n",
              "      <td>...</td>\n",
              "      <td>...</td>\n",
              "      <td>...</td>\n",
              "      <td>...</td>\n",
              "      <td>...</td>\n",
              "      <td>...</td>\n",
              "      <td>...</td>\n",
              "      <td>...</td>\n",
              "    </tr>\n",
              "    <tr>\n",
              "      <th rowspan=\"5\" valign=\"top\">True</th>\n",
              "      <th>575975</th>\n",
              "      <td>677</td>\n",
              "      <td>5185</td>\n",
              "      <td>1</td>\n",
              "      <td>0</td>\n",
              "      <td>1</td>\n",
              "      <td>0</td>\n",
              "      <td>1</td>\n",
              "      <td>0</td>\n",
              "      <td>0</td>\n",
              "      <td>0</td>\n",
              "      <td>1</td>\n",
              "      <td>1</td>\n",
              "      <td>1</td>\n",
              "      <td>1</td>\n",
              "      <td>0</td>\n",
              "      <td>0</td>\n",
              "      <td>0</td>\n",
              "      <td>0</td>\n",
              "      <td>1</td>\n",
              "      <td>1</td>\n",
              "    </tr>\n",
              "    <tr>\n",
              "      <th>708271</th>\n",
              "      <td>658</td>\n",
              "      <td>3090</td>\n",
              "      <td>1</td>\n",
              "      <td>1</td>\n",
              "      <td>1</td>\n",
              "      <td>0</td>\n",
              "      <td>0</td>\n",
              "      <td>1</td>\n",
              "      <td>0</td>\n",
              "      <td>0</td>\n",
              "      <td>1</td>\n",
              "      <td>0</td>\n",
              "      <td>0</td>\n",
              "      <td>1</td>\n",
              "      <td>0</td>\n",
              "      <td>0</td>\n",
              "      <td>0</td>\n",
              "      <td>0</td>\n",
              "      <td>1</td>\n",
              "      <td>0</td>\n",
              "    </tr>\n",
              "    <tr>\n",
              "      <th>183962</th>\n",
              "      <td>694</td>\n",
              "      <td>22792</td>\n",
              "      <td>1</td>\n",
              "      <td>1</td>\n",
              "      <td>1</td>\n",
              "      <td>1</td>\n",
              "      <td>1</td>\n",
              "      <td>1</td>\n",
              "      <td>0</td>\n",
              "      <td>0</td>\n",
              "      <td>1</td>\n",
              "      <td>1</td>\n",
              "      <td>0</td>\n",
              "      <td>1</td>\n",
              "      <td>0</td>\n",
              "      <td>0</td>\n",
              "      <td>0</td>\n",
              "      <td>0</td>\n",
              "      <td>1</td>\n",
              "      <td>1</td>\n",
              "    </tr>\n",
              "    <tr>\n",
              "      <th>806034</th>\n",
              "      <td>162</td>\n",
              "      <td>5353</td>\n",
              "      <td>1</td>\n",
              "      <td>1</td>\n",
              "      <td>0</td>\n",
              "      <td>0</td>\n",
              "      <td>0</td>\n",
              "      <td>0</td>\n",
              "      <td>0</td>\n",
              "      <td>0</td>\n",
              "      <td>1</td>\n",
              "      <td>0</td>\n",
              "      <td>1</td>\n",
              "      <td>1</td>\n",
              "      <td>0</td>\n",
              "      <td>0</td>\n",
              "      <td>0</td>\n",
              "      <td>0</td>\n",
              "      <td>1</td>\n",
              "      <td>0</td>\n",
              "    </tr>\n",
              "    <tr>\n",
              "      <th>778636</th>\n",
              "      <td>468</td>\n",
              "      <td>17202</td>\n",
              "      <td>1</td>\n",
              "      <td>0</td>\n",
              "      <td>1</td>\n",
              "      <td>0</td>\n",
              "      <td>1</td>\n",
              "      <td>0</td>\n",
              "      <td>0</td>\n",
              "      <td>0</td>\n",
              "      <td>1</td>\n",
              "      <td>0</td>\n",
              "      <td>1</td>\n",
              "      <td>0</td>\n",
              "      <td>1</td>\n",
              "      <td>0</td>\n",
              "      <td>0</td>\n",
              "      <td>0</td>\n",
              "      <td>0</td>\n",
              "      <td>0</td>\n",
              "    </tr>\n",
              "  </tbody>\n",
              "</table>\n",
              "<p>500000 rows × 20 columns</p>\n",
              "</div>"
            ],
            "text/plain": [
              "               email_id  user_id  opened  ... city__EDMONTON city__OTHER is_donor\n",
              "opened                                    ...                                    \n",
              "False  73952         55     9954       0  ...              0           0        1\n",
              "       578975       197     5066       0  ...              0           0        1\n",
              "       207559       611    20377       0  ...              0           1        1\n",
              "       54206        550    11225       0  ...              0           1        1\n",
              "       275328       416    16608       0  ...              0           1        1\n",
              "...                 ...      ...     ...  ...            ...         ...      ...\n",
              "True   575975       677     5185       1  ...              0           1        1\n",
              "       708271       658     3090       1  ...              0           1        0\n",
              "       183962       694    22792       1  ...              0           1        1\n",
              "       806034       162     5353       1  ...              0           1        0\n",
              "       778636       468    17202       1  ...              0           0        0\n",
              "\n",
              "[500000 rows x 20 columns]"
            ]
          },
          "metadata": {
            "tags": []
          },
          "execution_count": 93
        }
      ]
    },
    {
      "cell_type": "markdown",
      "metadata": {
        "id": "iZW7Wn8dE1Qm",
        "colab_type": "text"
      },
      "source": [
        "#### Features and Target in dataset"
      ]
    },
    {
      "cell_type": "code",
      "metadata": {
        "id": "ffjMhPXME0q8",
        "colab_type": "code",
        "colab": {}
      },
      "source": [
        "#Selecting Target\n",
        "y=df_combined_final['opened']\n",
        "\n",
        "#Selecting Features (17 nos.)\n",
        "X = df_combined_final.drop(['opened', 'email_id', 'user_id'], axis = 1)"
      ],
      "execution_count": 94,
      "outputs": []
    },
    {
      "cell_type": "markdown",
      "metadata": {
        "id": "rKohbyQ5Csjr",
        "colab_type": "text"
      },
      "source": [
        "# Splitting the data set into:\n",
        "* Training set (95% i.e. 500000 rows)\n",
        "* Validation set (5% of Taining set i.e. 45000 rows)\n",
        "* Final Testing set (5% i.e. 50000 rows)"
      ]
    },
    {
      "cell_type": "code",
      "metadata": {
        "id": "Q5Bd9DXDCLr7",
        "colab_type": "code",
        "colab": {}
      },
      "source": [
        "# Splitting the dataset into the Training set and Test set\n",
        "from sklearn.model_selection import train_test_split\n",
        "X_train, X_test, y_train, y_test = train_test_split(X, y, test_size = 0.1, random_state = 0)"
      ],
      "execution_count": 95,
      "outputs": []
    },
    {
      "cell_type": "code",
      "metadata": {
        "id": "iTF5pRTPGW8y",
        "colab_type": "code",
        "colab": {}
      },
      "source": [
        "# # Feature Scaling\n",
        "# # This will convert all features in same scale which is between standard normal distribution\n",
        "# # Using library StandardScaler\n",
        "# from sklearn.preprocessing import StandardScaler\n",
        "# sc = StandardScaler()\n",
        "# X_train = sc.fit_transform(X_train)\n",
        "# X_test = sc.transform(X_test)"
      ],
      "execution_count": 96,
      "outputs": []
    },
    {
      "cell_type": "code",
      "metadata": {
        "id": "NRTJvr-ccnw8",
        "colab_type": "code",
        "colab": {
          "base_uri": "https://localhost:8080/",
          "height": 487
        },
        "outputId": "9c417f1c-539f-46b4-a08c-2012b7d44379"
      },
      "source": [
        "X_train"
      ],
      "execution_count": 97,
      "outputs": [
        {
          "output_type": "execute_result",
          "data": {
            "text/html": [
              "<div>\n",
              "<style scoped>\n",
              "    .dataframe tbody tr th:only-of-type {\n",
              "        vertical-align: middle;\n",
              "    }\n",
              "\n",
              "    .dataframe tbody tr th {\n",
              "        vertical-align: top;\n",
              "    }\n",
              "\n",
              "    .dataframe thead th {\n",
              "        text-align: right;\n",
              "    }\n",
              "</style>\n",
              "<table border=\"1\" class=\"dataframe\">\n",
              "  <thead>\n",
              "    <tr style=\"text-align: right;\">\n",
              "      <th></th>\n",
              "      <th></th>\n",
              "      <th>Open_Lag1</th>\n",
              "      <th>Open_Lag2</th>\n",
              "      <th>Open_Lag3</th>\n",
              "      <th>Open_Lag4</th>\n",
              "      <th>Open_Lag5</th>\n",
              "      <th>do_not_call</th>\n",
              "      <th>do_not_contact</th>\n",
              "      <th>mobile_opt_in</th>\n",
              "      <th>email_opt_in</th>\n",
              "      <th>is_member</th>\n",
              "      <th>gender__MALE</th>\n",
              "      <th>gender__OTHERS</th>\n",
              "      <th>is_volunteer__True</th>\n",
              "      <th>is_volunteer__No Data</th>\n",
              "      <th>city__EDMONTON</th>\n",
              "      <th>city__OTHER</th>\n",
              "      <th>is_donor</th>\n",
              "    </tr>\n",
              "    <tr>\n",
              "      <th>opened</th>\n",
              "      <th></th>\n",
              "      <th></th>\n",
              "      <th></th>\n",
              "      <th></th>\n",
              "      <th></th>\n",
              "      <th></th>\n",
              "      <th></th>\n",
              "      <th></th>\n",
              "      <th></th>\n",
              "      <th></th>\n",
              "      <th></th>\n",
              "      <th></th>\n",
              "      <th></th>\n",
              "      <th></th>\n",
              "      <th></th>\n",
              "      <th></th>\n",
              "      <th></th>\n",
              "      <th></th>\n",
              "    </tr>\n",
              "  </thead>\n",
              "  <tbody>\n",
              "    <tr>\n",
              "      <th rowspan=\"2\" valign=\"top\">False</th>\n",
              "      <th>592152</th>\n",
              "      <td>0</td>\n",
              "      <td>0</td>\n",
              "      <td>0</td>\n",
              "      <td>0</td>\n",
              "      <td>0</td>\n",
              "      <td>0</td>\n",
              "      <td>0</td>\n",
              "      <td>1</td>\n",
              "      <td>1</td>\n",
              "      <td>0</td>\n",
              "      <td>0</td>\n",
              "      <td>0</td>\n",
              "      <td>0</td>\n",
              "      <td>0</td>\n",
              "      <td>0</td>\n",
              "      <td>1</td>\n",
              "      <td>0</td>\n",
              "    </tr>\n",
              "    <tr>\n",
              "      <th>364579</th>\n",
              "      <td>0</td>\n",
              "      <td>0</td>\n",
              "      <td>0</td>\n",
              "      <td>0</td>\n",
              "      <td>0</td>\n",
              "      <td>0</td>\n",
              "      <td>0</td>\n",
              "      <td>1</td>\n",
              "      <td>1</td>\n",
              "      <td>1</td>\n",
              "      <td>1</td>\n",
              "      <td>0</td>\n",
              "      <td>0</td>\n",
              "      <td>0</td>\n",
              "      <td>1</td>\n",
              "      <td>0</td>\n",
              "      <td>1</td>\n",
              "    </tr>\n",
              "    <tr>\n",
              "      <th>True</th>\n",
              "      <th>588948</th>\n",
              "      <td>0</td>\n",
              "      <td>0</td>\n",
              "      <td>0</td>\n",
              "      <td>1</td>\n",
              "      <td>0</td>\n",
              "      <td>0</td>\n",
              "      <td>0</td>\n",
              "      <td>1</td>\n",
              "      <td>1</td>\n",
              "      <td>0</td>\n",
              "      <td>0</td>\n",
              "      <td>0</td>\n",
              "      <td>0</td>\n",
              "      <td>0</td>\n",
              "      <td>0</td>\n",
              "      <td>1</td>\n",
              "      <td>1</td>\n",
              "    </tr>\n",
              "    <tr>\n",
              "      <th rowspan=\"2\" valign=\"top\">False</th>\n",
              "      <th>596977</th>\n",
              "      <td>0</td>\n",
              "      <td>0</td>\n",
              "      <td>0</td>\n",
              "      <td>0</td>\n",
              "      <td>1</td>\n",
              "      <td>0</td>\n",
              "      <td>0</td>\n",
              "      <td>1</td>\n",
              "      <td>1</td>\n",
              "      <td>0</td>\n",
              "      <td>1</td>\n",
              "      <td>0</td>\n",
              "      <td>0</td>\n",
              "      <td>0</td>\n",
              "      <td>0</td>\n",
              "      <td>0</td>\n",
              "      <td>0</td>\n",
              "    </tr>\n",
              "    <tr>\n",
              "      <th>73757</th>\n",
              "      <td>1</td>\n",
              "      <td>0</td>\n",
              "      <td>0</td>\n",
              "      <td>0</td>\n",
              "      <td>1</td>\n",
              "      <td>0</td>\n",
              "      <td>0</td>\n",
              "      <td>1</td>\n",
              "      <td>1</td>\n",
              "      <td>1</td>\n",
              "      <td>1</td>\n",
              "      <td>0</td>\n",
              "      <td>0</td>\n",
              "      <td>0</td>\n",
              "      <td>1</td>\n",
              "      <td>0</td>\n",
              "      <td>1</td>\n",
              "    </tr>\n",
              "    <tr>\n",
              "      <th>...</th>\n",
              "      <th>...</th>\n",
              "      <td>...</td>\n",
              "      <td>...</td>\n",
              "      <td>...</td>\n",
              "      <td>...</td>\n",
              "      <td>...</td>\n",
              "      <td>...</td>\n",
              "      <td>...</td>\n",
              "      <td>...</td>\n",
              "      <td>...</td>\n",
              "      <td>...</td>\n",
              "      <td>...</td>\n",
              "      <td>...</td>\n",
              "      <td>...</td>\n",
              "      <td>...</td>\n",
              "      <td>...</td>\n",
              "      <td>...</td>\n",
              "      <td>...</td>\n",
              "    </tr>\n",
              "    <tr>\n",
              "      <th>True</th>\n",
              "      <th>710605</th>\n",
              "      <td>1</td>\n",
              "      <td>1</td>\n",
              "      <td>1</td>\n",
              "      <td>1</td>\n",
              "      <td>1</td>\n",
              "      <td>0</td>\n",
              "      <td>0</td>\n",
              "      <td>1</td>\n",
              "      <td>0</td>\n",
              "      <td>1</td>\n",
              "      <td>1</td>\n",
              "      <td>0</td>\n",
              "      <td>0</td>\n",
              "      <td>0</td>\n",
              "      <td>1</td>\n",
              "      <td>0</td>\n",
              "      <td>1</td>\n",
              "    </tr>\n",
              "    <tr>\n",
              "      <th>False</th>\n",
              "      <th>618943</th>\n",
              "      <td>0</td>\n",
              "      <td>0</td>\n",
              "      <td>1</td>\n",
              "      <td>0</td>\n",
              "      <td>0</td>\n",
              "      <td>0</td>\n",
              "      <td>0</td>\n",
              "      <td>1</td>\n",
              "      <td>1</td>\n",
              "      <td>1</td>\n",
              "      <td>0</td>\n",
              "      <td>0</td>\n",
              "      <td>0</td>\n",
              "      <td>0</td>\n",
              "      <td>0</td>\n",
              "      <td>0</td>\n",
              "      <td>1</td>\n",
              "    </tr>\n",
              "    <tr>\n",
              "      <th rowspan=\"3\" valign=\"top\">True</th>\n",
              "      <th>78044</th>\n",
              "      <td>1</td>\n",
              "      <td>1</td>\n",
              "      <td>1</td>\n",
              "      <td>1</td>\n",
              "      <td>1</td>\n",
              "      <td>0</td>\n",
              "      <td>0</td>\n",
              "      <td>1</td>\n",
              "      <td>1</td>\n",
              "      <td>1</td>\n",
              "      <td>1</td>\n",
              "      <td>0</td>\n",
              "      <td>0</td>\n",
              "      <td>0</td>\n",
              "      <td>1</td>\n",
              "      <td>0</td>\n",
              "      <td>1</td>\n",
              "    </tr>\n",
              "    <tr>\n",
              "      <th>377416</th>\n",
              "      <td>1</td>\n",
              "      <td>1</td>\n",
              "      <td>1</td>\n",
              "      <td>1</td>\n",
              "      <td>0</td>\n",
              "      <td>0</td>\n",
              "      <td>0</td>\n",
              "      <td>1</td>\n",
              "      <td>1</td>\n",
              "      <td>1</td>\n",
              "      <td>1</td>\n",
              "      <td>0</td>\n",
              "      <td>0</td>\n",
              "      <td>0</td>\n",
              "      <td>1</td>\n",
              "      <td>0</td>\n",
              "      <td>1</td>\n",
              "    </tr>\n",
              "    <tr>\n",
              "      <th>311538</th>\n",
              "      <td>1</td>\n",
              "      <td>0</td>\n",
              "      <td>0</td>\n",
              "      <td>1</td>\n",
              "      <td>0</td>\n",
              "      <td>0</td>\n",
              "      <td>0</td>\n",
              "      <td>1</td>\n",
              "      <td>1</td>\n",
              "      <td>1</td>\n",
              "      <td>1</td>\n",
              "      <td>0</td>\n",
              "      <td>0</td>\n",
              "      <td>0</td>\n",
              "      <td>0</td>\n",
              "      <td>1</td>\n",
              "      <td>0</td>\n",
              "    </tr>\n",
              "  </tbody>\n",
              "</table>\n",
              "<p>450000 rows × 17 columns</p>\n",
              "</div>"
            ],
            "text/plain": [
              "              Open_Lag1 Open_Lag2  ... city__OTHER is_donor\n",
              "opened                             ...                     \n",
              "False  592152         0         0  ...           1        0\n",
              "       364579         0         0  ...           0        1\n",
              "True   588948         0         0  ...           1        1\n",
              "False  596977         0         0  ...           0        0\n",
              "       73757          1         0  ...           0        1\n",
              "...                 ...       ...  ...         ...      ...\n",
              "True   710605         1         1  ...           0        1\n",
              "False  618943         0         0  ...           0        1\n",
              "True   78044          1         1  ...           0        1\n",
              "       377416         1         1  ...           0        1\n",
              "       311538         1         0  ...           1        0\n",
              "\n",
              "[450000 rows x 17 columns]"
            ]
          },
          "metadata": {
            "tags": []
          },
          "execution_count": 97
        }
      ]
    },
    {
      "cell_type": "markdown",
      "metadata": {
        "id": "UhhIF3YdHsje",
        "colab_type": "text"
      },
      "source": [
        "# **Part 2 - Now let's make the ANN!!**\n"
      ]
    },
    {
      "cell_type": "markdown",
      "metadata": {
        "id": "l67yvtGDIh2H",
        "colab_type": "text"
      },
      "source": [
        "\n",
        "\n",
        "*   12 input features\n",
        "*   Layer 1 ---> 12 neurons\n",
        "*   Layer 2 ---> 10 neurons\n",
        "*   Layer 3 ---> 8 neurons\n",
        "*   Layer 4 ---> 6 neurons\n",
        "*   Output Layer  ---> 1 neurons\n",
        "\n",
        "Output will be with 0 or 1\n",
        "* 0 means did not open the email\n",
        "* 1 means opened the email\n",
        "\n",
        "\n",
        "Activation function:\n",
        "* RELU ---> For hidden layers\n",
        "* Sigmoid ---> For output layer\n",
        "\n"
      ]
    },
    {
      "cell_type": "code",
      "metadata": {
        "id": "ZDnPRQ8dHhae",
        "colab_type": "code",
        "colab": {
          "base_uri": "https://localhost:8080/",
          "height": 938
        },
        "outputId": "60229be5-da85-408a-ce25-eee4072fbeb7"
      },
      "source": [
        "# Importing the Keras libraries and packages\n",
        "import keras\n",
        "from keras.models import Sequential #This helps to create a sequential neural network\n",
        "from keras.layers import Dense #This helps in creating neuron in hidden layers\n",
        "from keras.layers import LeakyReLU,PReLU,ELU\n",
        "from keras.layers import Dropout\n",
        "\n",
        "\n",
        "# Initialising the ANN\n",
        "classifier = Sequential()\n",
        "\n",
        "\n",
        "# Adding the input layer and the first hidden layer\n",
        "classifier.add(Dense(activation=\"relu\", input_dim=17, units=12, kernel_initializer=\"he_uniform\")) \n",
        "# 'Dense' -------------> will help to construct the neurons\n",
        "# 'input_dim = 14' ----> because we have 12 input features\n",
        "# 'units = 6' ----> because we are passing outputs to 6 neurons of first hidden layer\n",
        "# 'ikernel_initializer = 'he_uniform'-> so that all the weights are initialized uniformally i.e. between 0 to 1\n",
        "# 'activation='relu' --> because we are using RELU activation function\n",
        "\n",
        "\n",
        "# Adding the second hidden layer\n",
        "classifier.add(Dense(activation=\"relu\", units=10, kernel_initializer=\"he_uniform\"))\n",
        "\n",
        "# Adding the third hidden layer\n",
        "classifier.add(Dense(activation=\"relu\", units=8, kernel_initializer=\"he_uniform\"))\n",
        "\n",
        "# Adding the fourth hidden layer\n",
        "classifier.add(Dense(activation=\"relu\", units=6, kernel_initializer=\"he_uniform\"))\n",
        "\n",
        "# Adding the output layer\n",
        "classifier.add(Dense(activation=\"sigmoid\", units=1, kernel_initializer=\"glorot_uniform\"))\n",
        "# 'units = 1' -------> because we are passing final outputs to 1 neuron of output layer\n",
        "# 'activation='sigmoid' --> because we are using Sigmoid activation function\n",
        "\n",
        "# Check the structure summary using 'classifier.summary()'\n",
        "\n",
        "\n",
        "# Compiling the ANN\n",
        "classifier.compile(optimizer = 'Adamax', loss = 'binary_crossentropy', metrics = ['accuracy'])\n",
        "\n",
        "# 'optimizer = 'Adamax' ---> Intialized the optimizer called 'Adamax'\n",
        "# 'loss = 'binary_crossentropy' ---> Because we are expecting only two outputs, 0 or 1\n",
        "\n",
        "# Fitting the ANN to the Training set\n",
        "model_history = classifier.fit(X_train, y_train,validation_split=0.1, batch_size = 10, epochs = 100, verbose = 1)\n",
        "# 'nb_epoch = 100' ---> Number of times, forward propagation and back propagation will run to adjust weights and reduce loss\n",
        "\n",
        "\n",
        "# save the classifier to disk\n",
        "filename = '/content/drive/Shared drives/RA2 TechCareers Model Data/pkl_folder/new_donor_classifier.sav'\n",
        "pickle.dump(classifier, open(filename, 'wb'))\n",
        "\n",
        "# save the model to disk\n",
        "filename = '/content/drive/Shared drives/RA2 TechCareers Model Data/pkl_folder/new_donor_history_model.sav'\n",
        "pickle.dump(model_history, open(filename, 'wb'))\n",
        "\n",
        "\n",
        "\n"
      ],
      "execution_count": 98,
      "outputs": [
        {
          "output_type": "stream",
          "text": [
            "Train on 405000 samples, validate on 45000 samples\n",
            "Epoch 1/100\n",
            "405000/405000 [==============================] - 120s 295us/step - loss: 0.4993 - accuracy: 0.7584 - val_loss: 0.4931 - val_accuracy: 0.7640\n",
            "Epoch 2/100\n",
            "405000/405000 [==============================] - 119s 294us/step - loss: 0.4967 - accuracy: 0.7597 - val_loss: 0.4925 - val_accuracy: 0.7618\n",
            "Epoch 3/100\n",
            "405000/405000 [==============================] - 120s 296us/step - loss: 0.4965 - accuracy: 0.7598 - val_loss: 0.4914 - val_accuracy: 0.7625\n",
            "Epoch 4/100\n",
            "405000/405000 [==============================] - 118s 292us/step - loss: 0.4963 - accuracy: 0.7599 - val_loss: 0.4923 - val_accuracy: 0.7640\n",
            "Epoch 5/100\n",
            "405000/405000 [==============================] - 122s 300us/step - loss: 0.4961 - accuracy: 0.7598 - val_loss: 0.4913 - val_accuracy: 0.7634\n",
            "Epoch 6/100\n",
            "405000/405000 [==============================] - 120s 296us/step - loss: 0.4962 - accuracy: 0.7600 - val_loss: 0.4918 - val_accuracy: 0.7640\n",
            "Epoch 7/100\n",
            "405000/405000 [==============================] - 120s 295us/step - loss: 0.4960 - accuracy: 0.7599 - val_loss: 0.4922 - val_accuracy: 0.7641\n",
            "Epoch 8/100\n",
            "405000/405000 [==============================] - 120s 297us/step - loss: 0.4961 - accuracy: 0.7599 - val_loss: 0.4912 - val_accuracy: 0.7635\n",
            "Epoch 9/100\n",
            "405000/405000 [==============================] - 123s 304us/step - loss: 0.4959 - accuracy: 0.7598 - val_loss: 0.4917 - val_accuracy: 0.7634\n",
            "Epoch 10/100\n",
            "405000/405000 [==============================] - 122s 302us/step - loss: 0.4959 - accuracy: 0.7600 - val_loss: 0.4921 - val_accuracy: 0.7641\n",
            "Epoch 11/100\n",
            "405000/405000 [==============================] - 120s 296us/step - loss: 0.4960 - accuracy: 0.7601 - val_loss: 0.4916 - val_accuracy: 0.7631\n",
            "Epoch 12/100\n",
            "405000/405000 [==============================] - 120s 295us/step - loss: 0.4960 - accuracy: 0.7601 - val_loss: 0.4910 - val_accuracy: 0.7629\n",
            "Epoch 13/100\n",
            "405000/405000 [==============================] - 121s 299us/step - loss: 0.4959 - accuracy: 0.7599 - val_loss: 0.4927 - val_accuracy: 0.7621\n",
            "Epoch 14/100\n",
            "405000/405000 [==============================] - 119s 295us/step - loss: 0.4959 - accuracy: 0.7601 - val_loss: 0.4918 - val_accuracy: 0.7631\n",
            "Epoch 15/100\n",
            "405000/405000 [==============================] - 120s 297us/step - loss: 0.4959 - accuracy: 0.7601 - val_loss: 0.4920 - val_accuracy: 0.7629\n",
            "Epoch 16/100\n",
            "405000/405000 [==============================] - 120s 296us/step - loss: 0.4959 - accuracy: 0.7597 - val_loss: 0.4920 - val_accuracy: 0.7635\n",
            "Epoch 17/100\n",
            "405000/405000 [==============================] - 120s 296us/step - loss: 0.4959 - accuracy: 0.7600 - val_loss: 0.4912 - val_accuracy: 0.7640\n",
            "Epoch 18/100\n",
            "405000/405000 [==============================] - 120s 297us/step - loss: 0.4958 - accuracy: 0.7599 - val_loss: 0.4911 - val_accuracy: 0.7630\n",
            "Epoch 19/100\n",
            "405000/405000 [==============================] - 120s 295us/step - loss: 0.4958 - accuracy: 0.7601 - val_loss: 0.4924 - val_accuracy: 0.7628\n",
            "Epoch 20/100\n",
            "405000/405000 [==============================] - 120s 297us/step - loss: 0.4958 - accuracy: 0.7601 - val_loss: 0.4913 - val_accuracy: 0.7636\n",
            "Epoch 21/100\n",
            "405000/405000 [==============================] - 121s 298us/step - loss: 0.4957 - accuracy: 0.7600 - val_loss: 0.4909 - val_accuracy: 0.7638\n",
            "Epoch 22/100\n",
            "405000/405000 [==============================] - 120s 297us/step - loss: 0.4958 - accuracy: 0.7598 - val_loss: 0.4921 - val_accuracy: 0.7630\n",
            "Epoch 23/100\n",
            "405000/405000 [==============================] - 121s 299us/step - loss: 0.4957 - accuracy: 0.7602 - val_loss: 0.4914 - val_accuracy: 0.7634\n",
            "Epoch 24/100\n",
            "405000/405000 [==============================] - 120s 296us/step - loss: 0.4957 - accuracy: 0.7600 - val_loss: 0.4909 - val_accuracy: 0.7634\n",
            "Epoch 25/100\n",
            "405000/405000 [==============================] - 120s 296us/step - loss: 0.4958 - accuracy: 0.7601 - val_loss: 0.4911 - val_accuracy: 0.7624\n",
            "Epoch 26/100\n",
            "280900/405000 [===================>..........] - ETA: 36s - loss: 0.4951 - accuracy: 0.7604Buffered data was truncated after reaching the output size limit."
          ],
          "name": "stdout"
        }
      ]
    },
    {
      "cell_type": "markdown",
      "metadata": {
        "id": "MydFLReOORhc",
        "colab_type": "text"
      },
      "source": [
        "[Adamax Initializer](https://www.tensorflow.org/api_docs/python/tf/keras/optimizers/Adamax)"
      ]
    },
    {
      "cell_type": "code",
      "metadata": {
        "id": "rZIQRbLpn3iZ",
        "colab_type": "code",
        "colab": {}
      },
      "source": [
        "# load the classifier from disk\n",
        "filename = '/content/drive/Shared drives/RA2 TechCareers Model Data/pkl_folder/new_donor_classifier.sav'\n",
        "loaded_classifier = pickle.load(open(filename, 'rb'))\n",
        "\n",
        "# load the model from disk\n",
        "filename = '/content/drive/Shared drives/RA2 TechCareers Model Data/pkl_folder/new_donor_history_model.sav'\n",
        "loaded_model = pickle.load(open(filename, 'rb'))\n",
        "\n"
      ],
      "execution_count": 99,
      "outputs": []
    },
    {
      "cell_type": "code",
      "metadata": {
        "id": "A7L4IgCaNcRa",
        "colab_type": "code",
        "colab": {
          "base_uri": "https://localhost:8080/",
          "height": 323
        },
        "outputId": "e8347732-57a4-48d2-b91f-5237a710ab3c"
      },
      "source": [
        "loaded_classifier.summary()"
      ],
      "execution_count": 100,
      "outputs": [
        {
          "output_type": "stream",
          "text": [
            "Model: \"sequential_10\"\n",
            "_________________________________________________________________\n",
            "Layer (type)                 Output Shape              Param #   \n",
            "=================================================================\n",
            "dense_46 (Dense)             (None, 12)                216       \n",
            "_________________________________________________________________\n",
            "dense_47 (Dense)             (None, 10)                130       \n",
            "_________________________________________________________________\n",
            "dense_48 (Dense)             (None, 8)                 88        \n",
            "_________________________________________________________________\n",
            "dense_49 (Dense)             (None, 6)                 54        \n",
            "_________________________________________________________________\n",
            "dense_50 (Dense)             (None, 1)                 7         \n",
            "=================================================================\n",
            "Total params: 495\n",
            "Trainable params: 495\n",
            "Non-trainable params: 0\n",
            "_________________________________________________________________\n"
          ],
          "name": "stdout"
        }
      ]
    },
    {
      "cell_type": "code",
      "metadata": {
        "id": "UeimKCaxDlGy",
        "colab_type": "code",
        "colab": {
          "base_uri": "https://localhost:8080/",
          "height": 295
        },
        "outputId": "11d42079-4cd0-4b89-b0cc-76a600b5b4e5"
      },
      "source": [
        "# summarize history for accuracy\n",
        "plt.plot(loaded_model.history['accuracy'])\n",
        "plt.plot(loaded_model.history['accuracy'])\n",
        "plt.title('model accuracy')\n",
        "plt.ylabel('accuracy')\n",
        "plt.xlabel('epoch')\n",
        "plt.legend(['train', 'test'], loc='upper left')\n",
        "plt.show()"
      ],
      "execution_count": 101,
      "outputs": [
        {
          "output_type": "display_data",
          "data": {
            "image/png": "[encoded data removed]",
            "text/plain": [
              "<Figure size 432x288 with 1 Axes>"
            ]
          },
          "metadata": {
            "tags": [],
            "needs_background": "light"
          }
        }
      ]
    },
    {
      "cell_type": "code",
      "metadata": {
        "id": "ZUI89Lz7Dl72",
        "colab_type": "code",
        "colab": {
          "base_uri": "https://localhost:8080/",
          "height": 295
        },
        "outputId": "73d92c00-713d-4aed-849f-8f162e6ae075"
      },
      "source": [
        "# summarize history for loss\n",
        "plt.plot(loaded_model.history['loss'])\n",
        "plt.plot(loaded_model.history['val_loss'])\n",
        "plt.title('model loss')\n",
        "plt.ylabel('loss')\n",
        "plt.xlabel('epoch')\n",
        "plt.legend(['train', 'test'], loc='upper left')\n",
        "plt.show()"
      ],
      "execution_count": 102,
      "outputs": [
        {
          "output_type": "display_data",
          "data": {
            "image/png": "[encoded data removed]",
            "text/plain": [
              "<Figure size 432x288 with 1 Axes>"
            ]
          },
          "metadata": {
            "tags": [],
            "needs_background": "light"
          }
        }
      ]
    },
    {
      "cell_type": "markdown",
      "metadata": {
        "id": "cDb-Lc4zDvhu",
        "colab_type": "text"
      },
      "source": [
        "# **Part 3 - Making the predictions and evaluating the model**\n"
      ]
    },
    {
      "cell_type": "code",
      "metadata": {
        "id": "D51R7erWDrOR",
        "colab_type": "code",
        "colab": {
          "base_uri": "https://localhost:8080/",
          "height": 136
        },
        "outputId": "d5d3b895-5ac7-405e-9df9-63532c704a9d"
      },
      "source": [
        "# Predicting the Test set results\n",
        "y_pred = loaded_classifier.predict(X_test)\n",
        "y_pred = (y_pred > 0.5)\n",
        "y_pred"
      ],
      "execution_count": 103,
      "outputs": [
        {
          "output_type": "execute_result",
          "data": {
            "text/plain": [
              "array([[False],\n",
              "       [ True],\n",
              "       [False],\n",
              "       ...,\n",
              "       [False],\n",
              "       [False],\n",
              "       [False]])"
            ]
          },
          "metadata": {
            "tags": []
          },
          "execution_count": 103
        }
      ]
    },
    {
      "cell_type": "code",
      "metadata": {
        "id": "b7mVxJN7D887",
        "colab_type": "code",
        "colab": {
          "base_uri": "https://localhost:8080/",
          "height": 51
        },
        "outputId": "4caaa7eb-b2c2-4d83-ca06-ae4fe7208940"
      },
      "source": [
        "# Making the Confusion Matrix\n",
        "from sklearn.metrics import confusion_matrix\n",
        "cm = confusion_matrix(y_test, y_pred)\n",
        "cm"
      ],
      "execution_count": 104,
      "outputs": [
        {
          "output_type": "execute_result",
          "data": {
            "text/plain": [
              "array([[18956,  6023],\n",
              "       [ 6063, 18958]])"
            ]
          },
          "metadata": {
            "tags": []
          },
          "execution_count": 104
        }
      ]
    },
    {
      "cell_type": "code",
      "metadata": {
        "id": "K3hWy-9zEJEG",
        "colab_type": "code",
        "colab": {
          "base_uri": "https://localhost:8080/",
          "height": 34
        },
        "outputId": "33a30a7b-d356-4de4-9f3a-fcbf539096d2"
      },
      "source": [
        "# Calculate the Accuracy\n",
        "from sklearn.metrics import accuracy_score\n",
        "score=accuracy_score(y_pred,y_test)\n",
        "\n",
        "score"
      ],
      "execution_count": 105,
      "outputs": [
        {
          "output_type": "execute_result",
          "data": {
            "text/plain": [
              "0.75828"
            ]
          },
          "metadata": {
            "tags": []
          },
          "execution_count": 105
        }
      ]
    },
    {
      "cell_type": "code",
      "metadata": {
        "id": "boHD452uEMaT",
        "colab_type": "code",
        "colab": {}
      },
      "source": [
        ""
      ],
      "execution_count": 105,
      "outputs": []
    }
  ]
}